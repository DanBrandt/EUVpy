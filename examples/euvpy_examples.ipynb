{
 "cells": [
  {
   "cell_type": "markdown",
   "id": "fc658cfb-d496-44dd-857d-78eda2cff878",
   "metadata": {},
   "source": [
    "Examples\n",
    "==========\n",
    "\n",
    "EUVpy can be used to generate EUV irradiance outputs for different models and in different wavelength binning schemes.\n",
    "A few examples of using its major capabilities are below.\n",
    "\n",
    "Running Different EUV Models in General\n",
    "---------------\n",
    "\n",
    "EUVpy contains 4 different solar EUV models: EUVAC, HEUVAC, HFG, and NEUVAC. Each of these models is parameterized in\n",
    "terms of the 10.7 cm solar radio flux (F10.7), or a quantity derived from F10.7. As a result, in order to run any of the\n",
    "aforementioned models, the user must first obtain F10.7 measurements. This can be done as follows:\n"
   ]
  },
  {
   "cell_type": "code",
   "execution_count": null,
   "id": "84ab98f0-baaa-4b04-b92f-4a3af3b40890",
   "metadata": {},
   "outputs": [],
   "source": [
    "# Top level imports\n",
    "import numpy as np\n",
    "import matplotlib.pyplot as plt\n",
    "import matplotlib\n",
    "matplotlib.use('Qt5Agg')\n",
    "\n",
    "# Local imports:\n",
    "from EUVpy.tools import processIndices\n",
    "from EUVpy.NEUVAC import neuvac\n",
    "from EUVpy.empiricalModels.models.EUVAC import euvac\n",
    "from EUVpy.empiricalModels.models.HEUVAC import heuvac\n",
    "from EUVpy.empiricalModels.models.SOLOMON import solomon\n",
    "\n",
    "# Global Plotting Settings:\n",
    "import matplotlib.pylab as pylab\n",
    "params = {'legend.fontsize': 'large',\n",
    "          'figure.figsize': (16, 8),\n",
    "         'axes.labelsize': 'large',\n",
    "         'axes.titlesize':'x-large',\n",
    "         'xtick.labelsize':'x-large',\n",
    "         'ytick.labelsize':'x-large'}\n",
    "pylab.rcParams.update(params)\n",
    "\n",
    "# Get some F10.7 for the entirety of 2018\n",
    "f107times, f107, f107a, f107b = processIndices.getCLSF107('2018-01-01', '2018-12-31', truncate=False)"
   ]
  },
  {
   "cell_type": "markdown",
   "id": "6d23e738-eba7-4e77-97ac-505f14e57ef5",
   "metadata": {},
   "source": [
    "After obtaining F10.7 data, the different models can then easily be executed:"
   ]
  },
  {
   "cell_type": "code",
   "execution_count": null,
   "id": "9f80c0dc-9527-4433-90b0-cdd4310fb8f3",
   "metadata": {
    "scrolled": true
   },
   "outputs": [],
   "source": [
    "# Call the models in the EUVAC bins!\n",
    "neuvacIrr, _, _, _ = neuvac.neuvacEUV(f107, f107b, bands='EUVAC')\n",
    "euvacFlux, euvacIrr, _, _, _ = euvac.euvac(f107, f107a)\n",
    "heuvac_wav, heuvacFlux, heuvacIrr, _, _, _ = heuvac.heuvac(f107, f107a, torr=True)\n",
    "\n",
    "# Call the models in the SOLOMON bins!\n",
    "neuvacIrrSolomon, _, _, _ = neuvac.neuvacEUV(f107, f107b, bands='SOLOMON')\n",
    "solomonFluxHFG, solomonIrrHFG = solomon.solomon(f107, f107a, model='HFG')\n",
    "solomonFluxEUVAC, solomonIrrEUVAC = solomon.solomon(f107, f107a, model='EUVAC')\n",
    "\n",
    "# Plotting:\n",
    "fig, ax = plt.subplots(nrows=1, ncols=2, figsize=(12, 6))\n",
    "# Left plot will be total irradiance in the EUVAC bins\n",
    "ax[0].plot(f107times, np.sum(neuvacIrr, axis=-1), label='NEUVAC-37', color='orange')\n",
    "ax[0].plot(f107times, np.sum(euvacIrr, axis=-1), label='EUVAC-37', color='green')\n",
    "ax[0].plot(f107times, np.sum(heuvacIrr, axis=-1), label='HEUVAC-37', color='red')\n",
    "ax[0].set_ylabel('Irradiance (W/m$^2$)')\n",
    "ax[0].set_xlabel('Date')\n",
    "ax[0].set_title('Total Irradiance (EUVAC Bins)')\n",
    "ax[0].legend(loc='best')\n",
    "# Right subplot will be total irradiance in the SOLOMON bins\n",
    "solomonTable = solomon.solomonTable\n",
    "mids = 0.5*(solomonTable[:, 1] + solomonTable[:, 2])*10\n",
    "ind2 = 7\n",
    "ax[1].plot(f107times, np.sum(neuvacIrrSolomon, axis=-1), label='NEUVAC-22', color='orange')\n",
    "ax[1].plot(f107times, np.sum(solomonIrrHFG, axis=-1), label='HFG', color='purple')\n",
    "ax[1].plot(f107times, np.sum(solomonIrrEUVAC, axis=-1), label='HEUVAC-22', color='red')\n",
    "ax[1].set_ylabel('Irradiance (W/m$^2$)')\n",
    "ax[1].set_xlabel('Date')\n",
    "ax[1].set_title('Total Irradiance (SOLOMON bins)')\n",
    "ax[1].legend(loc='best')\n",
    "fig.tight_layout()\n",
    "plt.show()"
   ]
  },
  {
   "cell_type": "markdown",
   "id": "43dc80e7-23f1-44a3-b009-58b21cdca1e8",
   "metadata": {},
   "source": [
    "The result should be the following figure:\n",
    "\n",
    "![Example_2](../docs/source/images/Example_2.png)\n"
   ]
  },
  {
   "cell_type": "markdown",
   "id": "6235109a-e5a4-4f42-8436-9e7a28ccf06c",
   "metadata": {},
   "source": [
    "Individual Solar Spectra\n",
    "---------------\n",
    "\n",
    "It can also be helpful at times to simply generate the entire spectrum for a particular model, so it may be examined.\n",
    "To do so, we can simply consider some arbitrary values of F10.7, 81-day averaged F10.7, and 54-day averaged F10.7 in a\n",
    "backwards-looking window:"
   ]
  },
  {
   "cell_type": "code",
   "execution_count": null,
   "id": "8f4c7dd2-206c-4fd1-a5f6-80ba6883f5b4",
   "metadata": {},
   "outputs": [],
   "source": [
    "# Sample values for F10.7, F10.7A, and F10.7B\n",
    "f107 = 120\n",
    "f107a = 85\n",
    "f107b = 87"
   ]
  },
  {
   "cell_type": "markdown",
   "id": "72cca64a-c47c-4207-84c8-57281671bdad",
   "metadata": {},
   "source": [
    "Generally speaking, it's most convenient to view solar spectra in something like a \"stair plot\". An example of this can\n",
    "be found in Figure 8 of [Nishimoto, et al. 2021](https://link.springer.com/article/10.1186/s40623-021-01402-7). In\n",
    "order to do that, we need to get the boundaries of the wavelength ranges. We can do that as follows:"
   ]
  },
  {
   "cell_type": "code",
   "execution_count": null,
   "id": "24132941-a181-49da-9b58-d93b5b7c9cf5",
   "metadata": {},
   "outputs": [],
   "source": [
    "from EUVpy.tools import toolbox\n",
    "euvacTable = euvac.euvacTable\n",
    "leftsides = euvacTable[:, 1]\n",
    "rightsides = euvacTable[:, 2]\n",
    "band_indices, band_boundaries = toolbox.band_info(leftsides, rightsides)"
   ]
  },
  {
   "cell_type": "markdown",
   "id": "1313dfc2-ed51-46fd-b1b4-57c684cfda7a",
   "metadata": {},
   "source": [
    "Let's compare the NEUVAC, EUVAC, and HEUVAC models:"
   ]
  },
  {
   "cell_type": "code",
   "execution_count": null,
   "id": "efad0712-7872-4095-893f-f85f5c3512e9",
   "metadata": {},
   "outputs": [],
   "source": [
    "neuvacIrr, _, _, _ = neuvac.neuvacEUV(f107, f107b, bands='EUVAC')\n",
    "euvacFlux, euvacIrr, _, _, _ = euvac.euvac(f107, f107a)\n",
    "heuvac_wav, heuvacFlux, heuvacIrr, _, _, _ = heuvac.heuvac(f107, f107a, torr=True)\n",
    "\n",
    "fig, ax = plt.subplots(nrows=1, ncols=1, sharex=True, sharey=True)\n",
    "ax.stairs(values=neuvacIrr[0, band_indices], edges=band_boundaries, label='NEUVAC-37', lw=3, color='tab:orange')\n",
    "ax.stairs(values=euvacIrr[0, band_indices], edges=band_boundaries, label='EUVAC-37', lw=3, color='tab:green')\n",
    "ax.stairs(values=heuvacIrr[0, band_indices], edges=band_boundaries, label='HEUVAC-37', lw=3, color='tab:red')\n",
    "ax.set_yscale('log')\n",
    "ax.legend(loc='best')\n",
    "ax.grid()\n",
    "ax.set_xlabel('Wavelength ($\\mathrm{\\AA}$)')\n",
    "ax.set_ylabel('Irradiance (W/m$^2$)')\n",
    "ax.set_title('Individual Solar Spectra in EUVAC Bins for (F10.7, F10.7A, F10.7B) = ('+str(f107)+', '+str(f107a)+', '+str(f107b)+')')\n",
    "plt.show()"
   ]
  },
  {
   "cell_type": "markdown",
   "id": "d700d66e-154d-4e95-98bd-7a12c9798592",
   "metadata": {},
   "source": [
    "The resulting image should look like the following:\n",
    "\n",
    "![Example_3](../docs/source/images/Example_3.png)"
   ]
  },
  {
   "cell_type": "markdown",
   "id": "4b2600cd-1cba-4c4d-865f-c0c5b9beadad",
   "metadata": {},
   "source": [
    "Irradiance Ensembles\n",
    "---------------\n",
    "One of the powerful capabilities EUVpy provides is the ability to generate irradiance ensembles. An irradiance ensemble\n",
    "consists of a collection of spectra constituting a distribution of irradiance values at each wavelength. To generate\n",
    "such as distribution, we need to import the right module, and again start by obtaining F10.7 values:\n"
   ]
  },
  {
   "cell_type": "code",
   "execution_count": null,
   "id": "30c9bfb1-7150-4564-83c0-932903336408",
   "metadata": {},
   "outputs": [],
   "source": [
    "from EUVpy.tools import ensemble\n",
    "\n",
    "# Obtain F10.7 values over a 2-month period:\n",
    "f107times, f107, f107a, f107b = processIndices.getCLSF107('2014-08-01', '2014-10-01', truncate=False)"
   ]
  },
  {
   "cell_type": "markdown",
   "id": "7d61f4fe-8a24-4b13-9718-2d1b604d0c8d",
   "metadata": {},
   "source": [
    "We now simply execute the following code. Note that the argument 'iterations' specifies the number of ensemble members:"
   ]
  },
  {
   "cell_type": "code",
   "execution_count": null,
   "id": "356bf748-ba8d-4692-bbd3-fd39911509fd",
   "metadata": {},
   "outputs": [],
   "source": [
    "num_ensemble_members = 50\n",
    "ensemble_NeuvacIrr, ensemble_average_NeuvacIrr, ensemble_stddev_NeuvacIrr = ensemble.irradiance_ensemble(f107, f107b,\n",
    "                                                                                            iterations=num_ensemble_members,\n",
    "                                                                                            model='NEUVAC')"
   ]
  },
  {
   "cell_type": "markdown",
   "id": "a5da8dfd-429a-48c7-8f57-9a540b37a1e6",
   "metadata": {},
   "source": [
    "Now we can look at the entire ensemble by plotting a time series of all of the ensemble members:"
   ]
  },
  {
   "cell_type": "code",
   "execution_count": null,
   "id": "265fa367-1d9f-4572-9ea2-3f9397a6956b",
   "metadata": {},
   "outputs": [],
   "source": [
    "# Plot the ensemble, with the confidence bands corresponding to the ensemble spread at 303.31 Angstroms:\n",
    "ind = 7\n",
    "plt.figure(figsize=(12,8))\n",
    "plt.fill_between(f107times, (ensemble_average_NeuvacIrr-ensemble_stddev_NeuvacIrr)[:, ind],\n",
    "                              (ensemble_average_NeuvacIrr+ensemble_stddev_NeuvacIrr)[:, ind],\n",
    "                     color='orange', alpha=0.6)\n",
    "plt.plot(f107times, ensemble_average_NeuvacIrr[:, ind], label='NEUVAC-59 (n='+str(num_ensemble_members)+')', color='tab:orange', linewidth=5)\n",
    "plt.xlabel('Date')\n",
    "plt.ylabel('Irradiance W/m$^2$')\n",
    "plt.xticks(rotation=45, ha='right')\n",
    "plt.legend(loc='best')\n",
    "plt.tight_layout()\n",
    "plt.show()\n"
   ]
  },
  {
   "cell_type": "markdown",
   "id": "15e5dcbb-fca1-44c3-99df-f521b5537476",
   "metadata": {},
   "source": [
    "The result should be a figure that looks like the following:\n",
    "\n",
    "![Example_4](../docs/source/images/Example_4.png)\n"
   ]
  },
  {
   "cell_type": "markdown",
   "id": "9754f7ae-1870-45f8-81ba-7ebfc3e1929d",
   "metadata": {},
   "source": [
    "# Preparing Files for Numerical Models\n",
    "---------------\n",
    "\n",
    "A final important capability provided by EUVpy are functions that enable NEUVAC outputs to be used directly be two\n",
    "powerful upper atmospheric models: the Global Ionosphere Thermosphere Model (GITM) and Aether. These models already\n",
    "have the ability to use EUVAC, HEUVAC, and HFG, but not so for NEUVAC. Therefore, EUVpy contains functions that enable\n",
    "NEUVAC irradiances to be formatted into a file that can be directly supplied to GITM, and also contains a code for\n",
    "outputting the NEUVAC model coefficients to a file that Aether can use to implement the model.\n",
    "\n",
    "\n",
    "## GITM\n",
    "\n",
    "GITM requires an external input file that contains solar EUV irradiances covering the period of time a given simulation\n",
    "is being run. To provide such a file contaning NEUVAC irradiances, we first simply obtain the F10.7 data over the\n",
    "simulation interval, and then execute a single function call:"
   ]
  },
  {
   "cell_type": "code",
   "execution_count": null,
   "id": "e5c9e2bd-0611-4ff2-8c5f-d2530926ecaa",
   "metadata": {},
   "outputs": [],
   "source": [
    "# Get some F10.7 during the 2015 St. Patrick's Day Geomagnetic Storm:\n",
    "f107times, f107, f107a, f107b = processIndices.getCLSF107('2015-03-16', '2015-03-26', truncate=False)\n",
    "\n",
    "# Generate the NEUVAC irradiance but output them to a file that can be used by GITM\n",
    "out = neuvac.gitmNEUVAC(f107times, f107, f107b)"
   ]
  },
  {
   "cell_type": "markdown",
   "id": "d0935bff-b46c-4fca-855e-7983b3822f7f",
   "metadata": {},
   "source": [
    "After running the above code, you should see a command-line printed output telling you where the file is located. It\n",
    "should at the following location ~/EUVpy/src/EUVpy/NEUVAC/irradiances/neuvac_euv_2015-03-16_to_2015-03-25.txt.\n",
    "\n",
    "## Aether\n",
    "\n",
    "The Aether model is set up to use NEUVAC differently than GITM. Aether actually has machinery for computing irradiances\n",
    "directly, but it requires a file with the coefficients for NEUVAC in order to do so. To do this, only a single line of\n",
    "code is needed:"
   ]
  },
  {
   "cell_type": "code",
   "execution_count": null,
   "id": "39e7d2d3-4bfd-461c-b803-bd8b39991e8f",
   "metadata": {},
   "outputs": [],
   "source": [
    "out = neuvac.aetherFile()"
   ]
  },
  {
   "cell_type": "markdown",
   "id": "e536b294-44a5-4f20-bc09-b3ed803a30d2",
   "metadata": {},
   "source": [
    "After running this code, a command-line printout should tell you where the resulting coefficents are located. They\n",
    "should be in the following location: ~/EUVpy/src/EUVpy/data/euv_59_aether.csv."
   ]
  },
  {
   "cell_type": "code",
   "execution_count": null,
   "id": "5e8b0634-58c7-4fd3-817a-18490bb1bbee",
   "metadata": {},
   "outputs": [],
   "source": []
  }
 ],
 "metadata": {
  "kernelspec": {
   "display_name": "Python 3 (ipykernel)",
   "language": "python",
   "name": "python3"
  },
  "language_info": {
   "codemirror_mode": {
    "name": "ipython",
    "version": 3
   },
   "file_extension": ".py",
   "mimetype": "text/x-python",
   "name": "python",
   "nbconvert_exporter": "python",
   "pygments_lexer": "ipython3",
   "version": "3.10.12"
  }
 },
 "nbformat": 4,
 "nbformat_minor": 5
}
